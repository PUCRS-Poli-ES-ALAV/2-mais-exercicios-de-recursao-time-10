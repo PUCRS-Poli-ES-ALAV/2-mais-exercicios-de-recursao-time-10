{
  "nbformat": 4,
  "nbformat_minor": 0,
  "metadata": {
    "colab": {
      "provenance": []
    },
    "kernelspec": {
      "name": "python3",
      "display_name": "Python 3"
    },
    "language_info": {
      "name": "python"
    }
  },
  "cells": [
    {
      "cell_type": "markdown",
      "source": [
        "# Atividades dia 06/08\n",
        "## Gabriel Floriano 22200150"
      ],
      "metadata": {
        "id": "StxAe1i8jNHk"
      }
    },
    {
      "cell_type": "markdown",
      "source": [
        "1) Modele e implemente um método recursivo que calcule o fatorial de um número n passado como parâmetro."
      ],
      "metadata": {
        "id": "yrvRFTatjTyC"
      }
    },
    {
      "cell_type": "code",
      "execution_count": null,
      "metadata": {
        "colab": {
          "base_uri": "https://localhost:8080/"
        },
        "id": "PATZSubQjCkB",
        "outputId": "acb106fb-8b1a-4cfb-a00f-ee25279ba968"
      },
      "outputs": [
        {
          "output_type": "execute_result",
          "data": {
            "text/plain": [
              "120"
            ]
          },
          "metadata": {},
          "execution_count": 2
        }
      ],
      "source": [
        "def fatorial(n):\n",
        "  if n==0 or n==1:\n",
        "    return 1\n",
        "  else:\n",
        "    return n*fatorial(n-1)\n",
        "fatorial(5)"
      ]
    },
    {
      "cell_type": "markdown",
      "source": [
        "2) Modele e implemente um método recursivo que calcule o somatório de um número n (passado como parâmetro) até 0."
      ],
      "metadata": {
        "id": "129rnKegjnTb"
      }
    },
    {
      "cell_type": "code",
      "source": [
        "def somatorio(n):\n",
        "  if n==0:\n",
        "    return n\n",
        "  elif n>0:\n",
        "    return n+somatorio(n-1)\n",
        "  else:\n",
        "    return n+somatorio(n+1)\n",
        "somatorio(5)"
      ],
      "metadata": {
        "colab": {
          "base_uri": "https://localhost:8080/"
        },
        "id": "YxFqaPYFjqEt",
        "outputId": "32ae887f-1a7d-4e13-ea2a-9bf059ea5c58"
      },
      "execution_count": null,
      "outputs": [
        {
          "output_type": "execute_result",
          "data": {
            "text/plain": [
              "15"
            ]
          },
          "metadata": {},
          "execution_count": 3
        }
      ]
    },
    {
      "cell_type": "markdown",
      "source": [
        "3) Modele e implemente um método recursivo que calcule o n-ésimo número da sequência de fibonacci."
      ],
      "metadata": {
        "id": "e02rtFhaj4ni"
      }
    },
    {
      "cell_type": "code",
      "source": [
        "def fibonacci(n):\n",
        "  if n<=0:\n",
        "    raise ExceptionType(\"Número invalido\")\n",
        "  elif n==1 or n==2:\n",
        "    return 1\n",
        "  else:\n",
        "    return fibonacci(n-1)+fibonacci(n-2)\n",
        "fibonacci(7)"
      ],
      "metadata": {
        "colab": {
          "base_uri": "https://localhost:8080/"
        },
        "id": "WtTyIWC0kMzF",
        "outputId": "47da8996-3435-47ec-c17e-ac4d5bba3179"
      },
      "execution_count": null,
      "outputs": [
        {
          "output_type": "execute_result",
          "data": {
            "text/plain": [
              "13"
            ]
          },
          "metadata": {},
          "execution_count": 5
        }
      ]
    },
    {
      "cell_type": "markdown",
      "source": [
        "4) Modele e implemente um método recursivo que calcule o somatório dos números inteiros entre os números k e j, passados como parâmetro."
      ],
      "metadata": {
        "id": "M_bUf0A7k2Pi"
      }
    },
    {
      "cell_type": "code",
      "source": [
        "def somatorio_intervalo(k,j):\n",
        "  if k>j:\n",
        "    return somatorio_intervalo(j,k)\n",
        "  elif k==j:\n",
        "    return k\n",
        "  else:\n",
        "    return k+somatorio_intervalo(k+1,j)\n",
        "somatorio_intervalo(10,5)"
      ],
      "metadata": {
        "colab": {
          "base_uri": "https://localhost:8080/"
        },
        "id": "hItwvDQMk48y",
        "outputId": "4f9e40e8-1df0-4d8b-aa5a-8ec150d978dc"
      },
      "execution_count": null,
      "outputs": [
        {
          "output_type": "execute_result",
          "data": {
            "text/plain": [
              "45"
            ]
          },
          "metadata": {},
          "execution_count": 11
        }
      ]
    },
    {
      "cell_type": "markdown",
      "source": [
        "5) Modele e implemente um método recursivo que recebe um String em retorna true se este String for um palíndrome, false caso contrário.\n",
        "\n",
        "     boolean isPal(String s)\n"
      ],
      "metadata": {
        "id": "tjMqj_AxmuGK"
      }
    },
    {
      "cell_type": "code",
      "source": [
        "def e_palindromo(s):\n",
        "  s = s.lower()\n",
        "  if len(s) <= 1:\n",
        "    return True\n",
        "  elif s[0] != s[-1]:\n",
        "    return False\n",
        "  else:\n",
        "    return e_palindromo(s[1:-1])\n",
        "\n",
        "print(e_palindromo(\"arara\"))\n",
        "print(e_palindromo(\"gremio\"))"
      ],
      "metadata": {
        "colab": {
          "base_uri": "https://localhost:8080/"
        },
        "id": "wyHi_j14mwQx",
        "outputId": "3567ef85-bccf-449a-9f49-88b7a0fda96d"
      },
      "execution_count": null,
      "outputs": [
        {
          "output_type": "stream",
          "name": "stdout",
          "text": [
            "True\n",
            "False\n"
          ]
        }
      ]
    },
    {
      "cell_type": "markdown",
      "source": [
        "6) Modele e implemente um método recursivo que recebe um inteiro zero ou positivo e retorna um String com o número em binário.\n",
        "\n",
        "*   Item da lista\n",
        "*   Item da lista\n",
        "\n"
      ],
      "metadata": {
        "id": "icOdV1HznMtS"
      }
    },
    {
      "cell_type": "code",
      "source": [
        "def binario(n):\n",
        "  if n == 0:\n",
        "    return \"0\"\n",
        "  elif n == 1:\n",
        "    return \"1\"\n",
        "  else:\n",
        "    return binario(n // 2) + str(n % 2)\n",
        "\n",
        "print(binario(10))\n",
        "print(binario(0))\n",
        "print(binario(1))"
      ],
      "metadata": {
        "id": "P-75JtlJnQZU",
        "colab": {
          "base_uri": "https://localhost:8080/"
        },
        "outputId": "e7f9d3ca-feda-4658-d982-7c1316ddb3e8"
      },
      "execution_count": 1,
      "outputs": [
        {
          "output_type": "stream",
          "name": "stdout",
          "text": [
            "1010\n",
            "0\n",
            "1\n"
          ]
        }
      ]
    },
    {
      "cell_type": "markdown",
      "source": [
        "7) Modele e implemente um método recursivo que calcule o somatório dos números contidos em um ArrayList de inteiros, passado como parâmetro."
      ],
      "metadata": {
        "id": "ggZOdf4QqfJG"
      }
    },
    {
      "cell_type": "code",
      "metadata": {
        "colab": {
          "base_uri": "https://localhost:8080/"
        },
        "id": "ee4c3c51",
        "outputId": "fc6b78fc-164b-4bd8-93fe-337fd2cbc06d"
      },
      "source": [
        "def somatorio_lista(lista):\n",
        "  if not lista:\n",
        "    return 0\n",
        "  else:\n",
        "    return lista[0] + somatorio_lista(lista[1:])\n",
        "\n",
        "lista_exemplo = [1, 2, 3, 4, 5]\n",
        "print(somatorio_lista(lista_exemplo))"
      ],
      "execution_count": 2,
      "outputs": [
        {
          "output_type": "stream",
          "name": "stdout",
          "text": [
            "15\n",
            "0\n"
          ]
        }
      ]
    },
    {
      "cell_type": "markdown",
      "source": [
        "8) Modele e implemente um método recursivo para encontrar o maior elemento de um ArrayList."
      ],
      "metadata": {
        "id": "0ga_tFRGq_TH"
      }
    },
    {
      "cell_type": "code",
      "source": [
        "def maior_elemento(lista):\n",
        "  if len(lista) == 1:\n",
        "    return lista[0]\n",
        "  else:\n",
        "    maior = maior_elemento(lista[1:])\n",
        "    return lista[0] if lista[0] > maior else maior\n",
        "maior_elemento([1,2,3,4,5])"
      ],
      "metadata": {
        "colab": {
          "base_uri": "https://localhost:8080/"
        },
        "id": "5NzaxSybrCER",
        "outputId": "cc8c4d73-3b30-469b-8641-6b77ee555c58"
      },
      "execution_count": 3,
      "outputs": [
        {
          "output_type": "execute_result",
          "data": {
            "text/plain": [
              "5"
            ]
          },
          "metadata": {},
          "execution_count": 3
        }
      ]
    },
    {
      "cell_type": "markdown",
      "source": [
        "9) Implemente um método recursivo para determinar se um string ocorre dentro de outro."
      ],
      "metadata": {
        "id": "Q1jNCGW6rOtz"
      }
    },
    {
      "cell_type": "code",
      "source": [
        "def ocorre(string, substring):\n",
        "  if len(string) < len(substring):\n",
        "    return False\n",
        "  elif string[:len(substring)] == substring:\n",
        "    return True\n",
        "  else:\n",
        "    return ocorre(string[1:], substring)\n",
        "ocorre(\"Gabriel\", \"el\")"
      ],
      "metadata": {
        "colab": {
          "base_uri": "https://localhost:8080/"
        },
        "id": "J2JR4QcarRMe",
        "outputId": "9a34f7da-ca64-473c-c186-4cc5ee0f469b"
      },
      "execution_count": 5,
      "outputs": [
        {
          "output_type": "execute_result",
          "data": {
            "text/plain": [
              "True"
            ]
          },
          "metadata": {},
          "execution_count": 5
        }
      ]
    },
    {
      "cell_type": "markdown",
      "source": [
        "10) Faça um método recursivo que determina o número de dígitos de um inteiro."
      ],
      "metadata": {
        "id": "uh21rr1ZrVnT"
      }
    },
    {
      "cell_type": "code",
      "metadata": {
        "colab": {
          "base_uri": "https://localhost:8080/"
        },
        "id": "a0388c87",
        "outputId": "89e60cb9-bb9a-49d3-931a-f4f14673baf0"
      },
      "source": [
        "def count_digits(n):\n",
        "  if n < 10:\n",
        "    return 1\n",
        "  else:\n",
        "    return 1 + count_digits(n // 10)\n",
        "\n",
        "# Example usage:\n",
        "print(count_digits(12345))\n",
        "print(count_digits(9))\n",
        "print(count_digits(0))"
      ],
      "execution_count": 6,
      "outputs": [
        {
          "output_type": "stream",
          "name": "stdout",
          "text": [
            "5\n",
            "1\n",
            "1\n"
          ]
        }
      ]
    },
    {
      "cell_type": "markdown",
      "source": [
        "11) Implemente um métodos que recebe um String e retorna um ArrayList com todas as permutações deste String."
      ],
      "metadata": {
        "id": "SZRfpMq1r3BZ"
      }
    },
    {
      "cell_type": "code",
      "metadata": {
        "colab": {
          "base_uri": "https://localhost:8080/"
        },
        "id": "861af875",
        "outputId": "1f335fe0-797c-4e03-bd23-7fb468502e15"
      },
      "source": [
        "def permutar(s):\n",
        "  if len(s) == 0:\n",
        "    return [\"\"]\n",
        "  elif len(s) == 1:\n",
        "    return [s]\n",
        "  else:\n",
        "    perm = []\n",
        "    for i in range(len(s)):\n",
        "      primeiro_char = s[i]\n",
        "      resto_string = s[:i] + s[i+1:]\n",
        "      for p in permutar(resto_string):\n",
        "        perm.append(primeiro_char + p)\n",
        "    return perm\n",
        "\n",
        "# Example usage:\n",
        "string_exemplo = \"abc\"\n",
        "permutacoes = permutar(string_exemplo)\n",
        "print(permutacoes)"
      ],
      "execution_count": 8,
      "outputs": [
        {
          "output_type": "stream",
          "name": "stdout",
          "text": [
            "['abc', 'acb', 'bac', 'bca', 'cab', 'cba']\n"
          ]
        }
      ]
    }
  ]
}